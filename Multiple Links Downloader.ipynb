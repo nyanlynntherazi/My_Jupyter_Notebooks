{
 "cells": [
  {
   "cell_type": "code",
   "execution_count": 7,
   "metadata": {
    "collapsed": true
   },
   "outputs": [],
   "source": [
    "import requests\n",
    "import os\n",
    "import time\n",
    "from selenium import webdriver\n",
    "from selenium.webdriver.support.ui import Select\n",
    "from selenium.webdriver.support.ui import WebDriverWait\n",
    "from selenium.common.exceptions import StaleElementReferenceException"
   ]
  },
  {
   "cell_type": "code",
   "execution_count": 3,
   "metadata": {},
   "outputs": [
    {
     "data": {
      "text/plain": [
       "159267"
      ]
     },
     "execution_count": 3,
     "metadata": {},
     "output_type": "execute_result"
    }
   ],
   "source": [
    "#Method 1 (Using Request)\n",
    "url = 'http://www.myanmarconstitutionaltribunal.org.mm/lawdatabase/my/download/file/fid/589'\n",
    "r = requests.get(url, allow_redirects=True)\n",
    "open('aa.pdf', 'wb').write(r.content)"
   ]
  },
  {
   "cell_type": "code",
   "execution_count": 22,
   "metadata": {},
   "outputs": [
    {
     "name": "stdout",
     "output_type": "stream",
     "text": [
      "http://www.myanmarconstitutionaltribunal.org.mm/lawdatabase/my/download/file/fid/589\n",
      "http://www.myanmarconstitutionaltribunal.org.mm/lawdatabase/my/download/file/fid/590\n",
      "http://www.myanmarconstitutionaltribunal.org.mm/lawdatabase/my/download/file/fid/582\n"
     ]
    }
   ],
   "source": [
    "#Method 2 (Using Selenium Chrome)\n",
    "urls = ['http://www.myanmarconstitutionaltribunal.org.mm/lawdatabase/my/download/file/fid/589','http://www.myanmarconstitutionaltribunal.org.mm/lawdatabase/my/download/file/fid/590', 'http://www.myanmarconstitutionaltribunal.org.mm/lawdatabase/my/download/file/fid/582']\n",
    "path_to_chromedriver = '/home/partu/Desktop/chromedriver_linux64/chromedriver'\n",
    "browser = webdriver.Chrome(executable_path = path_to_chromedriver)\n",
    "for url in urls: \n",
    "    browser.get(url)\n",
    "    browser.quit()\n",
    "    time.sleep(2)"
   ]
  },
  {
   "cell_type": "code",
   "execution_count": 18,
   "metadata": {
    "collapsed": true
   },
   "outputs": [],
   "source": [
    "#Method 3 (Using Phantom JS) Phantom JS not support download NOT USEABLE\n",
    "driver = webdriver.PhantomJS()\n",
    "driver.set_window_size(1120, 550)\n",
    "driver.get(\"http://www.myanmarconstitutionaltribunal.org.mm/lawdatabase/my/download/file/fid/589\")\n",
    "driver.quit()"
   ]
  },
  {
   "cell_type": "code",
   "execution_count": 1,
   "metadata": {},
   "outputs": [
    {
     "data": {
      "text/plain": [
       "'8-2015 (1).pdf'"
      ]
     },
     "execution_count": 1,
     "metadata": {},
     "output_type": "execute_result"
    }
   ],
   "source": [
    "#Method 4 (Using Wget :P) Finally Used This freaking Awesome\n",
    "import wget\n",
    "wget.download('http://www.myanmarconstitutionaltribunal.org.mm/lawdatabase/my/download/file/fid/1101')"
   ]
  },
  {
   "cell_type": "code",
   "execution_count": null,
   "metadata": {
    "collapsed": true
   },
   "outputs": [],
   "source": []
  }
 ],
 "metadata": {
  "kernelspec": {
   "display_name": "Python 3",
   "language": "python",
   "name": "python3"
  },
  "language_info": {
   "codemirror_mode": {
    "name": "ipython",
    "version": 3
   },
   "file_extension": ".py",
   "mimetype": "text/x-python",
   "name": "python",
   "nbconvert_exporter": "python",
   "pygments_lexer": "ipython3",
   "version": "3.6.2"
  }
 },
 "nbformat": 4,
 "nbformat_minor": 2
}
