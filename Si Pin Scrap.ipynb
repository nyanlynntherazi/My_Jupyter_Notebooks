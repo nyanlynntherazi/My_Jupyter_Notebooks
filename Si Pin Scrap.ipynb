{
 "cells": [
  {
   "cell_type": "code",
   "execution_count": 42,
   "metadata": {
    "collapsed": true
   },
   "outputs": [],
   "source": [
    "import sys\n",
    "import signal\n",
    "import pandas as pd\n",
    "import numpy as np"
   ]
  },
  {
   "cell_type": "code",
   "execution_count": 43,
   "metadata": {
    "collapsed": true
   },
   "outputs": [],
   "source": [
    "from selenium import webdriver\n",
    "from selenium.webdriver.support.ui import Select\n",
    "from selenium.webdriver.support.ui import WebDriverWait\n",
    "from selenium.common.exceptions import StaleElementReferenceException"
   ]
  },
  {
   "cell_type": "code",
   "execution_count": 44,
   "metadata": {
    "collapsed": true
   },
   "outputs": [],
   "source": [
    "url = 'https://app.ycdc.gov.mm/city_market/market_list.php'"
   ]
  },
  {
   "cell_type": "code",
   "execution_count": 45,
   "metadata": {
    "collapsed": true
   },
   "outputs": [],
   "source": [
    "path_to_chromedriver = '/home/partu/Desktop/chromedriver_linux64/chromedriver'\n",
    "browser = webdriver.Chrome(executable_path = path_to_chromedriver)"
   ]
  },
  {
   "cell_type": "code",
   "execution_count": 46,
   "metadata": {
    "collapsed": true
   },
   "outputs": [],
   "source": [
    "browser.get(url)"
   ]
  },
  {
   "cell_type": "code",
   "execution_count": 47,
   "metadata": {
    "collapsed": true
   },
   "outputs": [],
   "source": [
    "tsp_list = []\n",
    "ward_list = []\n",
    "street_list = []"
   ]
  },
  {
   "cell_type": "code",
   "execution_count": 49,
   "metadata": {},
   "outputs": [],
   "source": [
    "dst_path = '//*[@id=\"cri_seldistrict\"]/option[4]'\n",
    "browser.find_element_by_xpath(dst_path).click()#Select District 2-east 3-west 4-north 5-south\n",
    "browser.implicitly_wait(10)"
   ]
  },
  {
   "cell_type": "code",
   "execution_count": 50,
   "metadata": {
    "collapsed": true
   },
   "outputs": [],
   "source": [
    "tsp_path = '//*[@id=\"cri_seltownship\"]/option[2]'\n",
    "browser.find_element_by_xpath(tsp_path).click()#Select Township\n",
    "browser.implicitly_wait(10)"
   ]
  },
  {
   "cell_type": "code",
   "execution_count": 27,
   "metadata": {},
   "outputs": [],
   "source": [
    "tsp = browser.find_element_by_xpath(tsp_path)"
   ]
  },
  {
   "cell_type": "code",
   "execution_count": 28,
   "metadata": {
    "collapsed": true
   },
   "outputs": [],
   "source": [
    "tsp_list.append(tsp.text)"
   ]
  },
  {
   "cell_type": "code",
   "execution_count": 29,
   "metadata": {
    "collapsed": true
   },
   "outputs": [],
   "source": [
    "ward_path = '//*[@id=\"cri_selward\"]/option[{}]'.format(4)\n",
    "browser.find_element_by_xpath(ward_path).click()#Select Ward\n",
    "browser.implicitly_wait(10)\n",
    "ward = browser.find_element_by_xpath(ward_path)\n",
    "ward_list.append(ward.text)"
   ]
  },
  {
   "cell_type": "code",
   "execution_count": 30,
   "metadata": {},
   "outputs": [],
   "source": [
    "street_path = '//*[@id=\"cri_selstreet\"]'\n",
    "streets = browser.find_element_by_xpath(street_path)\n",
    "street_list.append(streets.text)\n",
    "street_list\n",
    "browser.implicitly_wait(10)\n",
    "df = pd.DataFrame({'street':street_list,'ward':ward_list,'tsp':tsp_list})"
   ]
  },
  {
   "cell_type": "code",
   "execution_count": 31,
   "metadata": {},
   "outputs": [
    {
     "data": {
      "text/html": [
       "<div>\n",
       "<style>\n",
       "    .dataframe thead tr:only-child th {\n",
       "        text-align: right;\n",
       "    }\n",
       "\n",
       "    .dataframe thead th {\n",
       "        text-align: left;\n",
       "    }\n",
       "\n",
       "    .dataframe tbody tr th {\n",
       "        vertical-align: top;\n",
       "    }\n",
       "</style>\n",
       "<table border=\"1\" class=\"dataframe\">\n",
       "  <thead>\n",
       "    <tr style=\"text-align: right;\">\n",
       "      <th></th>\n",
       "      <th>street</th>\n",
       "      <th>tsp</th>\n",
       "      <th>ward</th>\n",
       "    </tr>\n",
       "  </thead>\n",
       "  <tbody>\n",
       "    <tr>\n",
       "      <th>0</th>\n",
       "      <td>လမ်းအားလုံး \\n၁\\n၁၀\\n၁၁\\n၁၂\\n၁၃\\n၂\\n၃\\n၄\\n၅\\n...</td>\n",
       "      <td>တောင်ဥက္ကလာပ</td>\n",
       "      <td>၁၁</td>\n",
       "    </tr>\n",
       "    <tr>\n",
       "      <th>1</th>\n",
       "      <td>လမ်းအားလုံး \\nဇေယျာ\\nဇေယျာ-၁၀\\nဇေယျာ-၁၄\\nဇေယျ...</td>\n",
       "      <td>တောင်ဥက္ကလာပ</td>\n",
       "      <td>၁၀</td>\n",
       "    </tr>\n",
       "    <tr>\n",
       "      <th>2</th>\n",
       "      <td>လမ်းအားလုံး \\nကမာကြည်\\nကမာကြည်-၁\\nကမာကြည်-၂\\n...</td>\n",
       "      <td>ဒဂုံတောင်</td>\n",
       "      <td>၁၀၄</td>\n",
       "    </tr>\n",
       "    <tr>\n",
       "      <th>3</th>\n",
       "      <td>လမ်းအားလုံး \\nစျေး\\nဘရဏီ\\nဘရဏီ-၁\\nဘရဏီ-၂\\nဘရဏ...</td>\n",
       "      <td>တောင်ဥက္ကလာပ</td>\n",
       "      <td>၁၂</td>\n",
       "    </tr>\n",
       "  </tbody>\n",
       "</table>\n",
       "</div>"
      ],
      "text/plain": [
       "                                              street           tsp ward\n",
       "0   လမ်းအားလုံး \\n၁\\n၁၀\\n၁၁\\n၁၂\\n၁၃\\n၂\\n၃\\n၄\\n၅\\n...  တောင်ဥက္ကလာပ   ၁၁\n",
       "1   လမ်းအားလုံး \\nဇေယျာ\\nဇေယျာ-၁၀\\nဇေယျာ-၁၄\\nဇေယျ...  တောင်ဥက္ကလာပ   ၁၀\n",
       "2   လမ်းအားလုံး \\nကမာကြည်\\nကမာကြည်-၁\\nကမာကြည်-၂\\n...     ဒဂုံတောင်  ၁၀၄\n",
       "3   လမ်းအားလုံး \\nစျေး\\nဘရဏီ\\nဘရဏီ-၁\\nဘရဏီ-၂\\nဘရဏ...  တောင်ဥက္ကလာပ   ၁၂"
      ]
     },
     "execution_count": 31,
     "metadata": {},
     "output_type": "execute_result"
    }
   ],
   "source": [
    "df.head()"
   ]
  },
  {
   "cell_type": "code",
   "execution_count": 32,
   "metadata": {
    "collapsed": true
   },
   "outputs": [],
   "source": [
    "df.to_csv('/home/partu/Desktop/Sipin.csv',mode='a', header=False, index=False, encoding='utf-8')"
   ]
  },
  {
   "cell_type": "code",
   "execution_count": null,
   "metadata": {
    "collapsed": true
   },
   "outputs": [],
   "source": []
  }
 ],
 "metadata": {
  "kernelspec": {
   "display_name": "Python 3",
   "language": "python",
   "name": "python3"
  },
  "language_info": {
   "codemirror_mode": {
    "name": "ipython",
    "version": 3
   },
   "file_extension": ".py",
   "mimetype": "text/x-python",
   "name": "python",
   "nbconvert_exporter": "python",
   "pygments_lexer": "ipython3",
   "version": "3.6.2"
  }
 },
 "nbformat": 4,
 "nbformat_minor": 2
}
