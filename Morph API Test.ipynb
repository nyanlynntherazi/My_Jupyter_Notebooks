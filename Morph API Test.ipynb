{
 "cells": [
  {
   "cell_type": "code",
   "execution_count": 1,
   "metadata": {
    "collapsed": true
   },
   "outputs": [],
   "source": [
    "# Get data from the morph.io api\n",
    "import requests"
   ]
  },
  {
   "cell_type": "code",
   "execution_count": 2,
   "metadata": {
    "collapsed": true
   },
   "outputs": [],
   "source": [
    "# We're always asking for json because it's the easiest to deal with\n",
    "morph_api_url = \"https://api.morph.io/nyanlynntherazi/test_companies/data.json\""
   ]
  },
  {
   "cell_type": "code",
   "execution_count": 3,
   "metadata": {
    "collapsed": true
   },
   "outputs": [],
   "source": [
    "# Keep this key secret!\n",
    "morph_api_key = \"t7HMvxTzzRXtcEnrG9yY\""
   ]
  },
  {
   "cell_type": "code",
   "execution_count": 4,
   "metadata": {
    "collapsed": true
   },
   "outputs": [],
   "source": [
    "r = requests.get(morph_api_url, params={'key': morph_api_key,'query': \"select * from 'data' limit 10\"})"
   ]
  },
  {
   "cell_type": "code",
   "execution_count": 5,
   "metadata": {},
   "outputs": [
    {
     "name": "stdout",
     "output_type": "stream",
     "text": [
      "[{'index': 1, '0': 'KYING HONE COMPANY LIMITED', '1': 'ကျင်းဟုံ ကုမ္ပဏီ လီမိတက်', '2': '362/2017-2018(MDY)', '3': '18-09-2022'}, {'index': 2, '0': 'KYAUK SHWE TAUNG COMPANY LIMITED', '1': 'ကျောက်ရွှေတောင် ကုမ္ပဏီ လီမိတက်', '2': '360/2017-2018(MDY)', '3': '17-09-2022'}, {'index': 3, '0': 'GOLDEN TRIPLE STARS COMPANY LIMITED', '1': 'ဂိုးဒင်း ထရစ်ပယ် စတား(စ်) ကုမ္ပဏီ လီမိတက်', '2': '22/2017-2018(AYY)', '3': '18-09-2022'}, {'index': 4, '0': 'PEARL RUBY COMPANY LIMITED', '1': 'ပုလဲပတ္တမြား ကုမ္ပဏီ လီမိတက်', '2': '361/2017-2018(MDY)', '3': '18-09-2022'}, {'index': 5, '0': 'MYANMAR LYNN THITSAR 123 COMPANY LIMITED', '1': 'မြန်မာ လင်းသစ္စာ ၁၂၃ ကုမ္ပဏီ လီမိတက်', '2': '3791/2013-2014', '3': '05-11-2018'}, {'index': 6, '0': 'TAUNG CHAN COMPANY LIMITED..', '1': 'တောင်ချမ်း ကုမ္ပဏီ လီမိတက်', '2': '1186/2017-2018(NPW)', '3': '08-08-2022'}, {'index': 7, '0': 'DAWEI UNITY COMPANY LIMITED', '1': 'ထားဝယ်အင်အားစု ကုမ္ပဏီ လီမိတက်', '2': '46/2017-2018(TNI)', '3': '18-09-2022'}, {'index': 8, '0': 'KOOL & SMART COMPANY LIMITED..', '1': 'ကူး အင်န် စမတ် ကုမ္ပဏီ လီမိတက်', '2': '1187/2017-2018(NPW)', '3': '08-08-2022'}, {'index': 9, '0': 'KOREA STREAM COMPANY LIMITED', '1': 'ကိုရီးယား စထရင်း(မ်) ကုမ္ပဏီ လီမိတက်', '2': '33FC/2017-2018(NPW)', '3': '18-09-2022'}, {'index': 10, '0': 'NGWE HLAING PHYU COMPANY LIMITED', '1': 'ငွေလှိုင်းဖြူကုမ္ပဏီလီမိတက်', '2': '23/2017-2018(AYY)', '3': '18-09-2022'}]\n"
     ]
    }
   ],
   "source": [
    "print (r.json())"
   ]
  },
  {
   "cell_type": "code",
   "execution_count": null,
   "metadata": {
    "collapsed": true
   },
   "outputs": [],
   "source": []
  }
 ],
 "metadata": {
  "kernelspec": {
   "display_name": "Python 3",
   "language": "python",
   "name": "python3"
  },
  "language_info": {
   "codemirror_mode": {
    "name": "ipython",
    "version": 3
   },
   "file_extension": ".py",
   "mimetype": "text/x-python",
   "name": "python",
   "nbconvert_exporter": "python",
   "pygments_lexer": "ipython3",
   "version": "3.6.2"
  }
 },
 "nbformat": 4,
 "nbformat_minor": 2
}
